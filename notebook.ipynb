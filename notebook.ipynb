{
 "cells": [
  {
   "cell_type": "markdown",
   "id": "841c49fa-09d4-4ac7-af20-7557ae152618",
   "metadata": {},
   "source": [
    "![Header image showing soccer field](header_image.png)\n",
    "\n",
    "# Soccer Through the Ages\n",
    "\n",
    "This dataset contains information on international soccer games throughout the years. It includes results of soccer games and information about the players who scored the goals. The dataset contains data from 1872 up to 2023.\n",
    "\n",
    "### 💾 The data\n",
    "\n",
    "- `data/results.csv` - CSV with results of soccer games between 1872 and 2023\n",
    "  - `home_score` - The score of the home team, excluding penalty shootouts\n",
    "  - `away_score` - The score of the away team, excluding penalty shootouts\n",
    "  - `tournament` - The name of the tournament\n",
    "  - `city` - The name of the city where the game was played\n",
    "  - `country` - The name of the country where the game was played\n",
    "  - `neutral` - Whether the game was played at a neutral venue or not\n",
    "- `data/shootouts.csv` - CSV with results of penalty shootouts in the soccer games\n",
    "  - `winner` - The team that won the penalty shootout \n",
    "- `data/goalscorers.csv` - CSV with information on goal scorers of some of the soccer games in the results CSV\n",
    "  - `team` - The team that scored the goal\n",
    "  - `scorer` - The player who scored the goal\n",
    "  - `minute` - The minute in the game when the goal was scored\n",
    "  - `own_goal` - Whether it was an own goal or not\n",
    "  - `penalty` - Whether the goal was scored as a penalty or not\n",
    "\n",
    "The following columns can be found in all datasets:\n",
    "\n",
    "- `date` - The date of the soccer game\n",
    "- `home_team` - The team that played at home\n",
    "- `away_team` - The team that played away\n",
    "\n",
    "These shared columns fully identify the game that was played and can be used to join data between the different CSV files.\n",
    "\n",
    "Source: [GitHub](https://github.com/martj42/international_results/tree/baf917b948eec00f659d2f187c33c13547f7adc4)"
   ]
  },
  {
   "cell_type": "markdown",
   "id": "0893af30-c949-4c9b-8dca-ce8950907ce4",
   "metadata": {
    "executionCancelledAt": null,
    "executionTime": 48,
    "lastExecutedAt": 1695152304764,
    "lastScheduledRunId": null,
    "lastSuccessfullyExecutedCode": "### 🌎 **Some guiding questions to help you explore this data:**\n\n1. "
   },
   "source": [
    "### 📊 **Some guiding questions and visualization to help you explore this data:**\n",
    "\n",
    "1. Which are the 15 countries that have won the most games since 1960? Show them in a horizontal bar plot.\n",
    "2. How many goals are scored in total in each minute of the game? Show this in a bar plot, with the minutes on the x-axis. If you're up for the challenge, you could even create an animated Plotly plot that shows how the distribution has changed over the years.\n",
    "3. Which 10 players have scored the most hat-tricks?\n",
    "4. What is the proportion of games won by each team at home and away? What is the difference between the proportions?\n",
    "5. How many games have been won by the home team? And by the away team?"
   ]
  },
  {
   "cell_type": "markdown",
   "id": "4e379bb3-4538-4a0a-a5e3-92cba96f9e5c",
   "metadata": {},
   "source": [
    "### 💼 Develop a case study for your portfolio\n",
    "\n",
    "After exploring the data, you can create a comprehensive case study using this dataset. We have provided an example objective below, but feel free to come up with your own - the world is your oyster!\n",
    "\n",
    "**Example objective**: The UEFA Euro 2024 tournament is approaching. Utilize the historical data to construct a predictive model that forecasts potential outcomes of the tournament based on the team draws. Since the draws are not known yet, you should be able to configure them as variables in your notebook."
   ]
  },
  {
   "cell_type": "markdown",
   "id": "c3ac86aa-d8f2-424a-b343-2fb1a55728b7",
   "metadata": {},
   "source": [
    "You can query the pre-loaded CSV files using SQL directly. Here’s a **sample query**:"
   ]
  },
  {
   "cell_type": "markdown",
   "id": "3e9ce3fd-f878-4678-b4aa-c7a259e9f49e",
   "metadata": {},
   "source": [
    "### Importing all packages for the analysis"
   ]
  },
  {
   "cell_type": "code",
   "execution_count": 1,
   "id": "a42129cd-2775-4b00-93bc-9947b2128f9e",
   "metadata": {},
   "outputs": [],
   "source": [
    "import pandas as pd\n",
    "import numpy as np\n",
    "import matplotlib.pyplot as plt\n",
    "import seaborn as sns"
   ]
  },
  {
   "cell_type": "code",
   "execution_count": 291,
   "id": "f85fae92-3747-4286-a37b-44ef9799c519",
   "metadata": {
    "executionCancelledAt": null,
    "executionTime": null,
    "lastExecutedAt": null,
    "lastScheduledRunId": null,
    "lastSuccessfullyExecutedCode": null,
    "outputsMetadata": {
     "0": {
      "height": 37,
      "type": "stream"
     },
     "1": {
      "height": 323,
      "type": "dataFrame"
     }
    }
   },
   "outputs": [
    {
     "data": {
      "text/html": [
       "<div>\n",
       "<style scoped>\n",
       "    .dataframe tbody tr th:only-of-type {\n",
       "        vertical-align: middle;\n",
       "    }\n",
       "\n",
       "    .dataframe tbody tr th {\n",
       "        vertical-align: top;\n",
       "    }\n",
       "\n",
       "    .dataframe thead th {\n",
       "        text-align: right;\n",
       "    }\n",
       "</style>\n",
       "<table border=\"1\" class=\"dataframe\">\n",
       "  <thead>\n",
       "    <tr style=\"text-align: right;\">\n",
       "      <th></th>\n",
       "      <th>date</th>\n",
       "      <th>home_team</th>\n",
       "      <th>away_team</th>\n",
       "      <th>home_score</th>\n",
       "      <th>away_score</th>\n",
       "      <th>tournament</th>\n",
       "      <th>city</th>\n",
       "      <th>country</th>\n",
       "      <th>neutral</th>\n",
       "    </tr>\n",
       "  </thead>\n",
       "  <tbody>\n",
       "    <tr>\n",
       "      <th>0</th>\n",
       "      <td>1872-11-30</td>\n",
       "      <td>Scotland</td>\n",
       "      <td>England</td>\n",
       "      <td>0</td>\n",
       "      <td>0</td>\n",
       "      <td>Friendly</td>\n",
       "      <td>Glasgow</td>\n",
       "      <td>Scotland</td>\n",
       "      <td>False</td>\n",
       "    </tr>\n",
       "    <tr>\n",
       "      <th>1</th>\n",
       "      <td>1873-03-08</td>\n",
       "      <td>England</td>\n",
       "      <td>Scotland</td>\n",
       "      <td>4</td>\n",
       "      <td>2</td>\n",
       "      <td>Friendly</td>\n",
       "      <td>London</td>\n",
       "      <td>England</td>\n",
       "      <td>False</td>\n",
       "    </tr>\n",
       "    <tr>\n",
       "      <th>2</th>\n",
       "      <td>1874-03-07</td>\n",
       "      <td>Scotland</td>\n",
       "      <td>England</td>\n",
       "      <td>2</td>\n",
       "      <td>1</td>\n",
       "      <td>Friendly</td>\n",
       "      <td>Glasgow</td>\n",
       "      <td>Scotland</td>\n",
       "      <td>False</td>\n",
       "    </tr>\n",
       "    <tr>\n",
       "      <th>3</th>\n",
       "      <td>1875-03-06</td>\n",
       "      <td>England</td>\n",
       "      <td>Scotland</td>\n",
       "      <td>2</td>\n",
       "      <td>2</td>\n",
       "      <td>Friendly</td>\n",
       "      <td>London</td>\n",
       "      <td>England</td>\n",
       "      <td>False</td>\n",
       "    </tr>\n",
       "    <tr>\n",
       "      <th>4</th>\n",
       "      <td>1876-03-04</td>\n",
       "      <td>Scotland</td>\n",
       "      <td>England</td>\n",
       "      <td>3</td>\n",
       "      <td>0</td>\n",
       "      <td>Friendly</td>\n",
       "      <td>Glasgow</td>\n",
       "      <td>Scotland</td>\n",
       "      <td>False</td>\n",
       "    </tr>\n",
       "    <tr>\n",
       "      <th>...</th>\n",
       "      <td>...</td>\n",
       "      <td>...</td>\n",
       "      <td>...</td>\n",
       "      <td>...</td>\n",
       "      <td>...</td>\n",
       "      <td>...</td>\n",
       "      <td>...</td>\n",
       "      <td>...</td>\n",
       "      <td>...</td>\n",
       "    </tr>\n",
       "    <tr>\n",
       "      <th>44929</th>\n",
       "      <td>2023-09-12</td>\n",
       "      <td>Belgium</td>\n",
       "      <td>Estonia</td>\n",
       "      <td>5</td>\n",
       "      <td>0</td>\n",
       "      <td>UEFA Euro qualification</td>\n",
       "      <td>Brussels</td>\n",
       "      <td>Belgium</td>\n",
       "      <td>False</td>\n",
       "    </tr>\n",
       "    <tr>\n",
       "      <th>44930</th>\n",
       "      <td>2023-09-12</td>\n",
       "      <td>Sweden</td>\n",
       "      <td>Austria</td>\n",
       "      <td>1</td>\n",
       "      <td>3</td>\n",
       "      <td>UEFA Euro qualification</td>\n",
       "      <td>Stockholm</td>\n",
       "      <td>Sweden</td>\n",
       "      <td>False</td>\n",
       "    </tr>\n",
       "    <tr>\n",
       "      <th>44931</th>\n",
       "      <td>2023-09-12</td>\n",
       "      <td>Switzerland</td>\n",
       "      <td>Andorra</td>\n",
       "      <td>3</td>\n",
       "      <td>0</td>\n",
       "      <td>UEFA Euro qualification</td>\n",
       "      <td>Sion</td>\n",
       "      <td>Switzerland</td>\n",
       "      <td>False</td>\n",
       "    </tr>\n",
       "    <tr>\n",
       "      <th>44932</th>\n",
       "      <td>2023-09-12</td>\n",
       "      <td>Israel</td>\n",
       "      <td>Belarus</td>\n",
       "      <td>1</td>\n",
       "      <td>0</td>\n",
       "      <td>UEFA Euro qualification</td>\n",
       "      <td>Tel Aviv</td>\n",
       "      <td>Israel</td>\n",
       "      <td>False</td>\n",
       "    </tr>\n",
       "    <tr>\n",
       "      <th>44933</th>\n",
       "      <td>2023-09-12</td>\n",
       "      <td>Romania</td>\n",
       "      <td>Kosovo</td>\n",
       "      <td>2</td>\n",
       "      <td>0</td>\n",
       "      <td>UEFA Euro qualification</td>\n",
       "      <td>Bucharest</td>\n",
       "      <td>Romania</td>\n",
       "      <td>False</td>\n",
       "    </tr>\n",
       "  </tbody>\n",
       "</table>\n",
       "<p>44934 rows × 9 columns</p>\n",
       "</div>"
      ],
      "text/plain": [
       "             date    home_team away_team  home_score  away_score  \\\n",
       "0      1872-11-30     Scotland   England           0           0   \n",
       "1      1873-03-08      England  Scotland           4           2   \n",
       "2      1874-03-07     Scotland   England           2           1   \n",
       "3      1875-03-06      England  Scotland           2           2   \n",
       "4      1876-03-04     Scotland   England           3           0   \n",
       "...           ...          ...       ...         ...         ...   \n",
       "44929  2023-09-12      Belgium   Estonia           5           0   \n",
       "44930  2023-09-12       Sweden   Austria           1           3   \n",
       "44931  2023-09-12  Switzerland   Andorra           3           0   \n",
       "44932  2023-09-12       Israel   Belarus           1           0   \n",
       "44933  2023-09-12      Romania    Kosovo           2           0   \n",
       "\n",
       "                    tournament       city      country  neutral  \n",
       "0                     Friendly    Glasgow     Scotland    False  \n",
       "1                     Friendly     London      England    False  \n",
       "2                     Friendly    Glasgow     Scotland    False  \n",
       "3                     Friendly     London      England    False  \n",
       "4                     Friendly    Glasgow     Scotland    False  \n",
       "...                        ...        ...          ...      ...  \n",
       "44929  UEFA Euro qualification   Brussels      Belgium    False  \n",
       "44930  UEFA Euro qualification  Stockholm       Sweden    False  \n",
       "44931  UEFA Euro qualification       Sion  Switzerland    False  \n",
       "44932  UEFA Euro qualification   Tel Aviv       Israel    False  \n",
       "44933  UEFA Euro qualification  Bucharest      Romania    False  \n",
       "\n",
       "[44934 rows x 9 columns]"
      ]
     },
     "execution_count": 291,
     "metadata": {},
     "output_type": "execute_result"
    }
   ],
   "source": [
    "results = pd.read_csv('results.csv')\n",
    "results"
   ]
  },
  {
   "cell_type": "code",
   "execution_count": 293,
   "id": "c9471f1d-9e08-46ba-9572-11189d4dae63",
   "metadata": {},
   "outputs": [
    {
     "data": {
      "text/html": [
       "<div>\n",
       "<style scoped>\n",
       "    .dataframe tbody tr th:only-of-type {\n",
       "        vertical-align: middle;\n",
       "    }\n",
       "\n",
       "    .dataframe tbody tr th {\n",
       "        vertical-align: top;\n",
       "    }\n",
       "\n",
       "    .dataframe thead th {\n",
       "        text-align: right;\n",
       "    }\n",
       "</style>\n",
       "<table border=\"1\" class=\"dataframe\">\n",
       "  <thead>\n",
       "    <tr style=\"text-align: right;\">\n",
       "      <th></th>\n",
       "      <th>date</th>\n",
       "      <th>home_team</th>\n",
       "      <th>away_team</th>\n",
       "      <th>team</th>\n",
       "      <th>scorer</th>\n",
       "      <th>minute</th>\n",
       "      <th>own_goal</th>\n",
       "      <th>penalty</th>\n",
       "    </tr>\n",
       "  </thead>\n",
       "  <tbody>\n",
       "    <tr>\n",
       "      <th>0</th>\n",
       "      <td>1916-07-02</td>\n",
       "      <td>Chile</td>\n",
       "      <td>Uruguay</td>\n",
       "      <td>Uruguay</td>\n",
       "      <td>José Piendibene</td>\n",
       "      <td>44.0</td>\n",
       "      <td>False</td>\n",
       "      <td>False</td>\n",
       "    </tr>\n",
       "    <tr>\n",
       "      <th>1</th>\n",
       "      <td>1916-07-02</td>\n",
       "      <td>Chile</td>\n",
       "      <td>Uruguay</td>\n",
       "      <td>Uruguay</td>\n",
       "      <td>Isabelino Gradín</td>\n",
       "      <td>55.0</td>\n",
       "      <td>False</td>\n",
       "      <td>False</td>\n",
       "    </tr>\n",
       "    <tr>\n",
       "      <th>2</th>\n",
       "      <td>1916-07-02</td>\n",
       "      <td>Chile</td>\n",
       "      <td>Uruguay</td>\n",
       "      <td>Uruguay</td>\n",
       "      <td>Isabelino Gradín</td>\n",
       "      <td>70.0</td>\n",
       "      <td>False</td>\n",
       "      <td>False</td>\n",
       "    </tr>\n",
       "    <tr>\n",
       "      <th>3</th>\n",
       "      <td>1916-07-02</td>\n",
       "      <td>Chile</td>\n",
       "      <td>Uruguay</td>\n",
       "      <td>Uruguay</td>\n",
       "      <td>José Piendibene</td>\n",
       "      <td>75.0</td>\n",
       "      <td>False</td>\n",
       "      <td>False</td>\n",
       "    </tr>\n",
       "    <tr>\n",
       "      <th>4</th>\n",
       "      <td>1916-07-06</td>\n",
       "      <td>Argentina</td>\n",
       "      <td>Chile</td>\n",
       "      <td>Argentina</td>\n",
       "      <td>Alberto Ohaco</td>\n",
       "      <td>2.0</td>\n",
       "      <td>False</td>\n",
       "      <td>False</td>\n",
       "    </tr>\n",
       "    <tr>\n",
       "      <th>...</th>\n",
       "      <td>...</td>\n",
       "      <td>...</td>\n",
       "      <td>...</td>\n",
       "      <td>...</td>\n",
       "      <td>...</td>\n",
       "      <td>...</td>\n",
       "      <td>...</td>\n",
       "      <td>...</td>\n",
       "    </tr>\n",
       "    <tr>\n",
       "      <th>41108</th>\n",
       "      <td>2023-07-12</td>\n",
       "      <td>Jamaica</td>\n",
       "      <td>Mexico</td>\n",
       "      <td>Mexico</td>\n",
       "      <td>Luis Chávez</td>\n",
       "      <td>30.0</td>\n",
       "      <td>False</td>\n",
       "      <td>False</td>\n",
       "    </tr>\n",
       "    <tr>\n",
       "      <th>41109</th>\n",
       "      <td>2023-07-12</td>\n",
       "      <td>Jamaica</td>\n",
       "      <td>Mexico</td>\n",
       "      <td>Mexico</td>\n",
       "      <td>Roberto Alvarado</td>\n",
       "      <td>90.0</td>\n",
       "      <td>False</td>\n",
       "      <td>False</td>\n",
       "    </tr>\n",
       "    <tr>\n",
       "      <th>41110</th>\n",
       "      <td>2023-07-12</td>\n",
       "      <td>United States</td>\n",
       "      <td>Panama</td>\n",
       "      <td>Panama</td>\n",
       "      <td>Iván Anderson</td>\n",
       "      <td>99.0</td>\n",
       "      <td>False</td>\n",
       "      <td>False</td>\n",
       "    </tr>\n",
       "    <tr>\n",
       "      <th>41111</th>\n",
       "      <td>2023-07-12</td>\n",
       "      <td>United States</td>\n",
       "      <td>Panama</td>\n",
       "      <td>United States</td>\n",
       "      <td>Jesús Ferreira</td>\n",
       "      <td>105.0</td>\n",
       "      <td>False</td>\n",
       "      <td>False</td>\n",
       "    </tr>\n",
       "    <tr>\n",
       "      <th>41112</th>\n",
       "      <td>2023-07-16</td>\n",
       "      <td>Mexico</td>\n",
       "      <td>Panama</td>\n",
       "      <td>Mexico</td>\n",
       "      <td>Santiago Giménez</td>\n",
       "      <td>88.0</td>\n",
       "      <td>False</td>\n",
       "      <td>False</td>\n",
       "    </tr>\n",
       "  </tbody>\n",
       "</table>\n",
       "<p>41113 rows × 8 columns</p>\n",
       "</div>"
      ],
      "text/plain": [
       "             date      home_team away_team           team            scorer  \\\n",
       "0      1916-07-02          Chile   Uruguay        Uruguay   José Piendibene   \n",
       "1      1916-07-02          Chile   Uruguay        Uruguay  Isabelino Gradín   \n",
       "2      1916-07-02          Chile   Uruguay        Uruguay  Isabelino Gradín   \n",
       "3      1916-07-02          Chile   Uruguay        Uruguay   José Piendibene   \n",
       "4      1916-07-06      Argentina     Chile      Argentina     Alberto Ohaco   \n",
       "...           ...            ...       ...            ...               ...   \n",
       "41108  2023-07-12        Jamaica    Mexico         Mexico       Luis Chávez   \n",
       "41109  2023-07-12        Jamaica    Mexico         Mexico  Roberto Alvarado   \n",
       "41110  2023-07-12  United States    Panama         Panama     Iván Anderson   \n",
       "41111  2023-07-12  United States    Panama  United States    Jesús Ferreira   \n",
       "41112  2023-07-16         Mexico    Panama         Mexico  Santiago Giménez   \n",
       "\n",
       "       minute  own_goal  penalty  \n",
       "0        44.0     False    False  \n",
       "1        55.0     False    False  \n",
       "2        70.0     False    False  \n",
       "3        75.0     False    False  \n",
       "4         2.0     False    False  \n",
       "...       ...       ...      ...  \n",
       "41108    30.0     False    False  \n",
       "41109    90.0     False    False  \n",
       "41110    99.0     False    False  \n",
       "41111   105.0     False    False  \n",
       "41112    88.0     False    False  \n",
       "\n",
       "[41113 rows x 8 columns]"
      ]
     },
     "execution_count": 293,
     "metadata": {},
     "output_type": "execute_result"
    }
   ],
   "source": [
    "goal = pd.read_csv('goalscorers.csv')\n",
    "goal"
   ]
  },
  {
   "cell_type": "code",
   "execution_count": 143,
   "id": "f5b4c25b-ec62-4593-9699-fc1f2124ba04",
   "metadata": {},
   "outputs": [
    {
     "data": {
      "text/html": [
       "<div>\n",
       "<style scoped>\n",
       "    .dataframe tbody tr th:only-of-type {\n",
       "        vertical-align: middle;\n",
       "    }\n",
       "\n",
       "    .dataframe tbody tr th {\n",
       "        vertical-align: top;\n",
       "    }\n",
       "\n",
       "    .dataframe thead th {\n",
       "        text-align: right;\n",
       "    }\n",
       "</style>\n",
       "<table border=\"1\" class=\"dataframe\">\n",
       "  <thead>\n",
       "    <tr style=\"text-align: right;\">\n",
       "      <th></th>\n",
       "      <th>date</th>\n",
       "      <th>home_team</th>\n",
       "      <th>away_team</th>\n",
       "      <th>winner</th>\n",
       "    </tr>\n",
       "  </thead>\n",
       "  <tbody>\n",
       "    <tr>\n",
       "      <th>0</th>\n",
       "      <td>1967-08-22</td>\n",
       "      <td>India</td>\n",
       "      <td>Taiwan</td>\n",
       "      <td>Taiwan</td>\n",
       "    </tr>\n",
       "    <tr>\n",
       "      <th>1</th>\n",
       "      <td>1971-11-14</td>\n",
       "      <td>South Korea</td>\n",
       "      <td>Vietnam Republic</td>\n",
       "      <td>South Korea</td>\n",
       "    </tr>\n",
       "    <tr>\n",
       "      <th>2</th>\n",
       "      <td>1972-05-07</td>\n",
       "      <td>South Korea</td>\n",
       "      <td>Iraq</td>\n",
       "      <td>Iraq</td>\n",
       "    </tr>\n",
       "    <tr>\n",
       "      <th>3</th>\n",
       "      <td>1972-05-17</td>\n",
       "      <td>Thailand</td>\n",
       "      <td>South Korea</td>\n",
       "      <td>South Korea</td>\n",
       "    </tr>\n",
       "    <tr>\n",
       "      <th>4</th>\n",
       "      <td>1972-05-19</td>\n",
       "      <td>Thailand</td>\n",
       "      <td>Cambodia</td>\n",
       "      <td>Thailand</td>\n",
       "    </tr>\n",
       "    <tr>\n",
       "      <th>...</th>\n",
       "      <td>...</td>\n",
       "      <td>...</td>\n",
       "      <td>...</td>\n",
       "      <td>...</td>\n",
       "    </tr>\n",
       "    <tr>\n",
       "      <th>553</th>\n",
       "      <td>2023-07-04</td>\n",
       "      <td>India</td>\n",
       "      <td>Kuwait</td>\n",
       "      <td>India</td>\n",
       "    </tr>\n",
       "    <tr>\n",
       "      <th>554</th>\n",
       "      <td>2023-07-09</td>\n",
       "      <td>United States</td>\n",
       "      <td>Canada</td>\n",
       "      <td>United States</td>\n",
       "    </tr>\n",
       "    <tr>\n",
       "      <th>555</th>\n",
       "      <td>2023-07-12</td>\n",
       "      <td>United States</td>\n",
       "      <td>Panama</td>\n",
       "      <td>Panama</td>\n",
       "    </tr>\n",
       "    <tr>\n",
       "      <th>556</th>\n",
       "      <td>2023-09-07</td>\n",
       "      <td>Iraq</td>\n",
       "      <td>India</td>\n",
       "      <td>Iraq</td>\n",
       "    </tr>\n",
       "    <tr>\n",
       "      <th>557</th>\n",
       "      <td>2023-09-10</td>\n",
       "      <td>Thailand</td>\n",
       "      <td>Iraq</td>\n",
       "      <td>Iraq</td>\n",
       "    </tr>\n",
       "  </tbody>\n",
       "</table>\n",
       "<p>558 rows × 4 columns</p>\n",
       "</div>"
      ],
      "text/plain": [
       "           date      home_team         away_team         winner\n",
       "0    1967-08-22          India            Taiwan         Taiwan\n",
       "1    1971-11-14    South Korea  Vietnam Republic    South Korea\n",
       "2    1972-05-07    South Korea              Iraq           Iraq\n",
       "3    1972-05-17       Thailand       South Korea    South Korea\n",
       "4    1972-05-19       Thailand          Cambodia       Thailand\n",
       "..          ...            ...               ...            ...\n",
       "553  2023-07-04          India            Kuwait          India\n",
       "554  2023-07-09  United States            Canada  United States\n",
       "555  2023-07-12  United States            Panama         Panama\n",
       "556  2023-09-07           Iraq             India           Iraq\n",
       "557  2023-09-10       Thailand              Iraq           Iraq\n",
       "\n",
       "[558 rows x 4 columns]"
      ]
     },
     "execution_count": 143,
     "metadata": {},
     "output_type": "execute_result"
    }
   ],
   "source": [
    "shoot_out = pd.read_csv('shootouts.csv')\n",
    "shoot_out"
   ]
  },
  {
   "cell_type": "markdown",
   "id": "160b44f2-0d6c-4f3a-a82f-e8f98ed40c2d",
   "metadata": {},
   "source": [
    "We check for duplicated values "
   ]
  },
  {
   "cell_type": "code",
   "execution_count": 152,
   "id": "0d282bed-e927-4ada-87d0-904a5f104b84",
   "metadata": {
    "executionCancelledAt": null,
    "executionTime": 35,
    "lastExecutedAt": 1707312095925,
    "lastScheduledRunId": null,
    "lastSuccessfullyExecutedCode": "results.duplicated()"
   },
   "outputs": [
    {
     "data": {
      "text/plain": [
       "0"
      ]
     },
     "execution_count": 152,
     "metadata": {},
     "output_type": "execute_result"
    }
   ],
   "source": [
    "results.duplicated().sum()"
   ]
  },
  {
   "cell_type": "markdown",
   "id": "cc076a88-5708-4324-b359-ca500d7641ad",
   "metadata": {},
   "source": [
    "We check for missing values  "
   ]
  },
  {
   "cell_type": "code",
   "execution_count": 153,
   "id": "3f078dec-fc13-48ea-833b-8526cb6d3f75",
   "metadata": {
    "executionCancelledAt": null,
    "executionTime": 43,
    "lastExecutedAt": 1707312100597,
    "lastScheduledRunId": null,
    "lastSuccessfullyExecutedCode": "results.isna().sum()"
   },
   "outputs": [
    {
     "data": {
      "text/plain": [
       "date          0\n",
       "home_team     0\n",
       "away_team     0\n",
       "home_score    0\n",
       "away_score    0\n",
       "tournament    0\n",
       "city          0\n",
       "country       0\n",
       "neutral       0\n",
       "dtype: int64"
      ]
     },
     "execution_count": 153,
     "metadata": {},
     "output_type": "execute_result"
    }
   ],
   "source": [
    "results.isna().sum()"
   ]
  },
  {
   "cell_type": "code",
   "execution_count": 154,
   "id": "71a2c943-26d8-475e-b425-5a0ca1acb6ce",
   "metadata": {
    "executionCancelledAt": null,
    "executionTime": 16,
    "lastExecutedAt": 1707312104873,
    "lastScheduledRunId": null,
    "lastSuccessfullyExecutedCode": "results.dtypes"
   },
   "outputs": [
    {
     "data": {
      "text/plain": [
       "date          object\n",
       "home_team     object\n",
       "away_team     object\n",
       "home_score     int64\n",
       "away_score     int64\n",
       "tournament    object\n",
       "city          object\n",
       "country       object\n",
       "neutral         bool\n",
       "dtype: object"
      ]
     },
     "execution_count": 154,
     "metadata": {},
     "output_type": "execute_result"
    }
   ],
   "source": [
    "df.dtypes"
   ]
  },
  {
   "cell_type": "code",
   "execution_count": 220,
   "id": "e9975963-7d37-4d92-89ce-8f0589a8d21b",
   "metadata": {
    "executionCancelledAt": null,
    "executionTime": 39,
    "lastExecutedAt": 1707312115167,
    "lastScheduledRunId": null,
    "lastSuccessfullyExecutedCode": "#Change Date Column to Datetime\nresults['date'] = pd.to_datetime(results['date'], format='%Y-%m-%d')\n\n# Display the updated data\nprint(results)\n",
    "outputsMetadata": {
     "0": {
      "height": 297,
      "type": "stream"
     }
    }
   },
   "outputs": [],
   "source": [
    "#Change Date Column to Datetime\n",
    "results['date'] = pd.to_datetime(results['date'], format='%Y-%m-%d')"
   ]
  },
  {
   "cell_type": "code",
   "execution_count": 221,
   "id": "d2960113-7086-4b81-a158-a2b7dbca57da",
   "metadata": {},
   "outputs": [
    {
     "data": {
      "text/html": [
       "<div>\n",
       "<style scoped>\n",
       "    .dataframe tbody tr th:only-of-type {\n",
       "        vertical-align: middle;\n",
       "    }\n",
       "\n",
       "    .dataframe tbody tr th {\n",
       "        vertical-align: top;\n",
       "    }\n",
       "\n",
       "    .dataframe thead th {\n",
       "        text-align: right;\n",
       "    }\n",
       "</style>\n",
       "<table border=\"1\" class=\"dataframe\">\n",
       "  <thead>\n",
       "    <tr style=\"text-align: right;\">\n",
       "      <th></th>\n",
       "      <th>date</th>\n",
       "      <th>home_team</th>\n",
       "      <th>away_team</th>\n",
       "      <th>home_score</th>\n",
       "      <th>away_score</th>\n",
       "      <th>tournament</th>\n",
       "      <th>city</th>\n",
       "      <th>country</th>\n",
       "      <th>neutral</th>\n",
       "    </tr>\n",
       "  </thead>\n",
       "  <tbody>\n",
       "    <tr>\n",
       "      <th>0</th>\n",
       "      <td>1872-11-30</td>\n",
       "      <td>Scotland</td>\n",
       "      <td>England</td>\n",
       "      <td>0</td>\n",
       "      <td>0</td>\n",
       "      <td>Friendly</td>\n",
       "      <td>Glasgow</td>\n",
       "      <td>Scotland</td>\n",
       "      <td>False</td>\n",
       "    </tr>\n",
       "    <tr>\n",
       "      <th>1</th>\n",
       "      <td>1873-03-08</td>\n",
       "      <td>England</td>\n",
       "      <td>Scotland</td>\n",
       "      <td>4</td>\n",
       "      <td>2</td>\n",
       "      <td>Friendly</td>\n",
       "      <td>London</td>\n",
       "      <td>England</td>\n",
       "      <td>False</td>\n",
       "    </tr>\n",
       "    <tr>\n",
       "      <th>2</th>\n",
       "      <td>1874-03-07</td>\n",
       "      <td>Scotland</td>\n",
       "      <td>England</td>\n",
       "      <td>2</td>\n",
       "      <td>1</td>\n",
       "      <td>Friendly</td>\n",
       "      <td>Glasgow</td>\n",
       "      <td>Scotland</td>\n",
       "      <td>False</td>\n",
       "    </tr>\n",
       "    <tr>\n",
       "      <th>3</th>\n",
       "      <td>1875-03-06</td>\n",
       "      <td>England</td>\n",
       "      <td>Scotland</td>\n",
       "      <td>2</td>\n",
       "      <td>2</td>\n",
       "      <td>Friendly</td>\n",
       "      <td>London</td>\n",
       "      <td>England</td>\n",
       "      <td>False</td>\n",
       "    </tr>\n",
       "    <tr>\n",
       "      <th>4</th>\n",
       "      <td>1876-03-04</td>\n",
       "      <td>Scotland</td>\n",
       "      <td>England</td>\n",
       "      <td>3</td>\n",
       "      <td>0</td>\n",
       "      <td>Friendly</td>\n",
       "      <td>Glasgow</td>\n",
       "      <td>Scotland</td>\n",
       "      <td>False</td>\n",
       "    </tr>\n",
       "    <tr>\n",
       "      <th>...</th>\n",
       "      <td>...</td>\n",
       "      <td>...</td>\n",
       "      <td>...</td>\n",
       "      <td>...</td>\n",
       "      <td>...</td>\n",
       "      <td>...</td>\n",
       "      <td>...</td>\n",
       "      <td>...</td>\n",
       "      <td>...</td>\n",
       "    </tr>\n",
       "    <tr>\n",
       "      <th>44929</th>\n",
       "      <td>2023-09-12</td>\n",
       "      <td>Belgium</td>\n",
       "      <td>Estonia</td>\n",
       "      <td>5</td>\n",
       "      <td>0</td>\n",
       "      <td>UEFA Euro qualification</td>\n",
       "      <td>Brussels</td>\n",
       "      <td>Belgium</td>\n",
       "      <td>False</td>\n",
       "    </tr>\n",
       "    <tr>\n",
       "      <th>44930</th>\n",
       "      <td>2023-09-12</td>\n",
       "      <td>Sweden</td>\n",
       "      <td>Austria</td>\n",
       "      <td>1</td>\n",
       "      <td>3</td>\n",
       "      <td>UEFA Euro qualification</td>\n",
       "      <td>Stockholm</td>\n",
       "      <td>Sweden</td>\n",
       "      <td>False</td>\n",
       "    </tr>\n",
       "    <tr>\n",
       "      <th>44931</th>\n",
       "      <td>2023-09-12</td>\n",
       "      <td>Switzerland</td>\n",
       "      <td>Andorra</td>\n",
       "      <td>3</td>\n",
       "      <td>0</td>\n",
       "      <td>UEFA Euro qualification</td>\n",
       "      <td>Sion</td>\n",
       "      <td>Switzerland</td>\n",
       "      <td>False</td>\n",
       "    </tr>\n",
       "    <tr>\n",
       "      <th>44932</th>\n",
       "      <td>2023-09-12</td>\n",
       "      <td>Israel</td>\n",
       "      <td>Belarus</td>\n",
       "      <td>1</td>\n",
       "      <td>0</td>\n",
       "      <td>UEFA Euro qualification</td>\n",
       "      <td>Tel Aviv</td>\n",
       "      <td>Israel</td>\n",
       "      <td>False</td>\n",
       "    </tr>\n",
       "    <tr>\n",
       "      <th>44933</th>\n",
       "      <td>2023-09-12</td>\n",
       "      <td>Romania</td>\n",
       "      <td>Kosovo</td>\n",
       "      <td>2</td>\n",
       "      <td>0</td>\n",
       "      <td>UEFA Euro qualification</td>\n",
       "      <td>Bucharest</td>\n",
       "      <td>Romania</td>\n",
       "      <td>False</td>\n",
       "    </tr>\n",
       "  </tbody>\n",
       "</table>\n",
       "<p>44934 rows × 9 columns</p>\n",
       "</div>"
      ],
      "text/plain": [
       "            date    home_team away_team  home_score  away_score  \\\n",
       "0     1872-11-30     Scotland   England           0           0   \n",
       "1     1873-03-08      England  Scotland           4           2   \n",
       "2     1874-03-07     Scotland   England           2           1   \n",
       "3     1875-03-06      England  Scotland           2           2   \n",
       "4     1876-03-04     Scotland   England           3           0   \n",
       "...          ...          ...       ...         ...         ...   \n",
       "44929 2023-09-12      Belgium   Estonia           5           0   \n",
       "44930 2023-09-12       Sweden   Austria           1           3   \n",
       "44931 2023-09-12  Switzerland   Andorra           3           0   \n",
       "44932 2023-09-12       Israel   Belarus           1           0   \n",
       "44933 2023-09-12      Romania    Kosovo           2           0   \n",
       "\n",
       "                    tournament       city      country  neutral  \n",
       "0                     Friendly    Glasgow     Scotland    False  \n",
       "1                     Friendly     London      England    False  \n",
       "2                     Friendly    Glasgow     Scotland    False  \n",
       "3                     Friendly     London      England    False  \n",
       "4                     Friendly    Glasgow     Scotland    False  \n",
       "...                        ...        ...          ...      ...  \n",
       "44929  UEFA Euro qualification   Brussels      Belgium    False  \n",
       "44930  UEFA Euro qualification  Stockholm       Sweden    False  \n",
       "44931  UEFA Euro qualification       Sion  Switzerland    False  \n",
       "44932  UEFA Euro qualification   Tel Aviv       Israel    False  \n",
       "44933  UEFA Euro qualification  Bucharest      Romania    False  \n",
       "\n",
       "[44934 rows x 9 columns]"
      ]
     },
     "execution_count": 221,
     "metadata": {},
     "output_type": "execute_result"
    }
   ],
   "source": [
    "results"
   ]
  },
  {
   "cell_type": "code",
   "execution_count": 11,
   "id": "ea1c6fd6-f287-4d8c-a37a-75b5e7de95a7",
   "metadata": {
    "executionCancelledAt": null,
    "executionTime": 15,
    "lastExecutedAt": 1707312124082,
    "lastScheduledRunId": null,
    "lastSuccessfullyExecutedCode": "results.dtypes"
   },
   "outputs": [
    {
     "data": {
      "text/plain": [
       "date          datetime64[ns]\n",
       "home_team             object\n",
       "away_team             object\n",
       "home_score             int64\n",
       "away_score             int64\n",
       "tournament            object\n",
       "city                  object\n",
       "country               object\n",
       "neutral                 bool\n",
       "dtype: object"
      ]
     },
     "execution_count": 11,
     "metadata": {},
     "output_type": "execute_result"
    }
   ],
   "source": [
    "results.dtypes"
   ]
  },
  {
   "cell_type": "markdown",
   "id": "235c8566-e7e1-4c23-9b35-5701dd34b725",
   "metadata": {},
   "source": [
    "### EDA"
   ]
  },
  {
   "cell_type": "markdown",
   "id": "e89bf313-155c-4609-8a0f-d95c589414de",
   "metadata": {},
   "source": [
    "#### Question 1: What fifteen countries have won the most games since 1960?"
   ]
  },
  {
   "cell_type": "code",
   "execution_count": 248,
   "id": "0622d7d0-3e7e-4c0e-a93e-dd6510eca115",
   "metadata": {},
   "outputs": [
    {
     "name": "stderr",
     "output_type": "stream",
     "text": [
      "C:\\Users\\HP\\AppData\\Local\\Temp\\ipykernel_9400\\3073585358.py:14: SettingWithCopyWarning: \n",
      "A value is trying to be set on a copy of a slice from a DataFrame.\n",
      "Try using .loc[row_indexer,col_indexer] = value instead\n",
      "\n",
      "See the caveats in the documentation: https://pandas.pydata.org/pandas-docs/stable/user_guide/indexing.html#returning-a-view-versus-a-copy\n",
      "  df['winning_country'] = wins\n"
     ]
    }
   ],
   "source": [
    "import pandas as pd\n",
    "\n",
    "df = results[results['date'].dt.year >= 1960]\n",
    "\n",
    "wins = []\n",
    "for index, row in df.iterrows():\n",
    "    if row['home_score'] > row['away_score']:\n",
    "        wins.append(row['home_team'])\n",
    "    elif row['away_score'] > row['home_score']:\n",
    "        wins.append(row['away_team'])\n",
    "    else:\n",
    "        wins.append('draw')\n",
    "\n",
    "df['winning_country'] = wins\n"
   ]
  },
  {
   "cell_type": "code",
   "execution_count": 250,
   "id": "08aab56b-063f-46ee-95f7-a9635f5e59da",
   "metadata": {},
   "outputs": [
    {
     "data": {
      "text/html": [
       "<div>\n",
       "<style scoped>\n",
       "    .dataframe tbody tr th:only-of-type {\n",
       "        vertical-align: middle;\n",
       "    }\n",
       "\n",
       "    .dataframe tbody tr th {\n",
       "        vertical-align: top;\n",
       "    }\n",
       "\n",
       "    .dataframe thead th {\n",
       "        text-align: right;\n",
       "    }\n",
       "</style>\n",
       "<table border=\"1\" class=\"dataframe\">\n",
       "  <thead>\n",
       "    <tr style=\"text-align: right;\">\n",
       "      <th></th>\n",
       "      <th>date</th>\n",
       "      <th>home_team</th>\n",
       "      <th>away_team</th>\n",
       "      <th>home_score</th>\n",
       "      <th>away_score</th>\n",
       "      <th>tournament</th>\n",
       "      <th>city</th>\n",
       "      <th>country</th>\n",
       "      <th>neutral</th>\n",
       "      <th>winning_country</th>\n",
       "    </tr>\n",
       "  </thead>\n",
       "  <tbody>\n",
       "    <tr>\n",
       "      <th>4653</th>\n",
       "      <td>1960-01-01</td>\n",
       "      <td>Morocco</td>\n",
       "      <td>Yugoslavia</td>\n",
       "      <td>0</td>\n",
       "      <td>5</td>\n",
       "      <td>Friendly</td>\n",
       "      <td>Casablanca</td>\n",
       "      <td>Morocco</td>\n",
       "      <td>False</td>\n",
       "      <td>Yugoslavia</td>\n",
       "    </tr>\n",
       "    <tr>\n",
       "      <th>4654</th>\n",
       "      <td>1960-01-03</td>\n",
       "      <td>Tunisia</td>\n",
       "      <td>Yugoslavia</td>\n",
       "      <td>1</td>\n",
       "      <td>5</td>\n",
       "      <td>Friendly</td>\n",
       "      <td>Tunis</td>\n",
       "      <td>Tunisia</td>\n",
       "      <td>False</td>\n",
       "      <td>Yugoslavia</td>\n",
       "    </tr>\n",
       "    <tr>\n",
       "      <th>4655</th>\n",
       "      <td>1960-01-06</td>\n",
       "      <td>Italy</td>\n",
       "      <td>Switzerland</td>\n",
       "      <td>3</td>\n",
       "      <td>0</td>\n",
       "      <td>Central European International Cup</td>\n",
       "      <td>Naples</td>\n",
       "      <td>Italy</td>\n",
       "      <td>False</td>\n",
       "      <td>Italy</td>\n",
       "    </tr>\n",
       "    <tr>\n",
       "      <th>4656</th>\n",
       "      <td>1960-01-08</td>\n",
       "      <td>Egypt</td>\n",
       "      <td>Yugoslavia</td>\n",
       "      <td>0</td>\n",
       "      <td>1</td>\n",
       "      <td>Friendly</td>\n",
       "      <td>Cairo</td>\n",
       "      <td>United Arab Republic</td>\n",
       "      <td>True</td>\n",
       "      <td>Yugoslavia</td>\n",
       "    </tr>\n",
       "    <tr>\n",
       "      <th>4657</th>\n",
       "      <td>1960-01-27</td>\n",
       "      <td>Guinea-Bissau</td>\n",
       "      <td>Gambia</td>\n",
       "      <td>3</td>\n",
       "      <td>2</td>\n",
       "      <td>Friendly</td>\n",
       "      <td>Bissau</td>\n",
       "      <td>Guinea-Bissau</td>\n",
       "      <td>False</td>\n",
       "      <td>Guinea-Bissau</td>\n",
       "    </tr>\n",
       "  </tbody>\n",
       "</table>\n",
       "</div>"
      ],
      "text/plain": [
       "           date      home_team    away_team  home_score  away_score  \\\n",
       "4653 1960-01-01        Morocco   Yugoslavia           0           5   \n",
       "4654 1960-01-03        Tunisia   Yugoslavia           1           5   \n",
       "4655 1960-01-06          Italy  Switzerland           3           0   \n",
       "4656 1960-01-08          Egypt   Yugoslavia           0           1   \n",
       "4657 1960-01-27  Guinea-Bissau       Gambia           3           2   \n",
       "\n",
       "                              tournament        city               country  \\\n",
       "4653                            Friendly  Casablanca               Morocco   \n",
       "4654                            Friendly       Tunis               Tunisia   \n",
       "4655  Central European International Cup      Naples                 Italy   \n",
       "4656                            Friendly       Cairo  United Arab Republic   \n",
       "4657                            Friendly      Bissau         Guinea-Bissau   \n",
       "\n",
       "      neutral winning_country  \n",
       "4653    False      Yugoslavia  \n",
       "4654    False      Yugoslavia  \n",
       "4655    False           Italy  \n",
       "4656     True      Yugoslavia  \n",
       "4657    False   Guinea-Bissau  "
      ]
     },
     "execution_count": 250,
     "metadata": {},
     "output_type": "execute_result"
    }
   ],
   "source": [
    "df.head(5)"
   ]
  },
  {
   "cell_type": "code",
   "execution_count": 251,
   "id": "18698f29-39f2-4dc7-990f-25d983589f54",
   "metadata": {},
   "outputs": [
    {
     "data": {
      "text/plain": [
       "winning_country\n",
       "draw           9512\n",
       "Brazil          544\n",
       "South Korea     460\n",
       "Mexico          455\n",
       "Germany         445\n",
       "               ... \n",
       "Kabylia           1\n",
       "San Marino        1\n",
       "Micronesia        1\n",
       "Mapuche           1\n",
       "Hmong             1\n",
       "Name: count, Length: 300, dtype: int64"
      ]
     },
     "execution_count": 251,
     "metadata": {},
     "output_type": "execute_result"
    }
   ],
   "source": [
    "\n",
    "df['winning_country'].value_counts()"
   ]
  },
  {
   "cell_type": "code",
   "execution_count": 260,
   "id": "724773d8-c504-49b3-b6da-f4c9d36f3307",
   "metadata": {},
   "outputs": [
    {
     "data": {
      "text/plain": [
       "winning_country\n",
       "Brazil         544\n",
       "South Korea    460\n",
       "Mexico         455\n",
       "Germany        445\n",
       "England        399\n",
       "              ... \n",
       "Kabylia          1\n",
       "San Marino       1\n",
       "Micronesia       1\n",
       "Mapuche          1\n",
       "Hmong            1\n",
       "Name: count, Length: 299, dtype: int64"
      ]
     },
     "execution_count": 260,
     "metadata": {},
     "output_type": "execute_result"
    }
   ],
   "source": [
    "# to drop draws\n",
    "del_draws_df = df[df.winning_country != 'draw']\n",
    "del_draws_df['winning_country'].value_counts()"
   ]
  },
  {
   "cell_type": "code",
   "execution_count": 269,
   "id": "c351afcd-ff0a-4c51-aa19-7d3761ca7423",
   "metadata": {},
   "outputs": [
    {
     "data": {
      "text/plain": [
       "winning_country\n",
       "Brazil         544\n",
       "South Korea    460\n",
       "Mexico         455\n",
       "Germany        445\n",
       "England        399\n",
       "Argentina      379\n",
       "Spain          371\n",
       "France         355\n",
       "Italy          346\n",
       "Sweden         342\n",
       "Russia         340\n",
       "Zambia         340\n",
       "Netherlands    331\n",
       "Egypt          329\n",
       "Poland         326\n",
       "Name: count, dtype: int64"
      ]
     },
     "execution_count": 269,
     "metadata": {},
     "output_type": "execute_result"
    }
   ],
   "source": [
    "top_15 = del_draws_df['winning_country'].value_counts().head(15)\n",
    "top_15"
   ]
  },
  {
   "cell_type": "code",
   "execution_count": 277,
   "id": "48ad79b1-d248-44fe-ae41-5de901452dc6",
   "metadata": {},
   "outputs": [
    {
     "data": {
      "image/png": "[encoded data removed]",
      "text/plain": [
       "<Figure size 1800x500 with 1 Axes>"
      ]
     },
     "metadata": {},
     "output_type": "display_data"
    }
   ],
   "source": [
    "import matplotlib.pyplot as plt\n",
    "\n",
    "plt.figure(figsize = (18, 5))\n",
    "plt.bar(top_15.index, top_15.values, color='blue')\n",
    "\n",
    "# Customize the plot\n",
    "plt.title('Top 15 countries with the highest goals', fontsize = 20)\n",
    "plt.xlabel('Countries', fontsize = 15)\n",
    "plt.ylabel('Goals', fontsize = 15)\n",
    "\n",
    "# Show the plot\n",
    "plt.show()\n"
   ]
  },
  {
   "cell_type": "code",
   "execution_count": null,
   "id": "f2084fc6-5b9f-4a86-b58b-17ae46053214",
   "metadata": {},
   "outputs": [],
   "source": []
  },
  {
   "cell_type": "code",
   "execution_count": null,
   "id": "d7349085-1f79-47ba-a033-e7ec5b9dac30",
   "metadata": {},
   "outputs": [],
   "source": []
  },
  {
   "cell_type": "raw",
   "id": "3affaa4c-a5e5-42bc-9149-30065e4282ac",
   "metadata": {},
   "source": [
    "winner_df = results"
   ]
  },
  {
   "cell_type": "code",
   "execution_count": null,
   "id": "810d6031-de61-46d0-8f4d-c808cd5e50b5",
   "metadata": {
    "executionCancelledAt": null,
    "executionTime": 22,
    "lastExecutedAt": 1707312141599,
    "lastScheduledRunId": null,
    "lastSuccessfullyExecutedCode": "# Question 1: What fifteen countries have won the most games since 1960?\n\n# Filter the data to include only records from 1960 onward\nresults = results[results['date'].dt.year >= 1960]\n\n# Create a new DataFrame or series to count the number of wins for each country\nwinners_df = results[results['home_score'] > results['away_score']]['home_team']\nwinners_df = winners_df.append(results[results['home_score'] < results['away_score']]['away_team'])\n\n# Count the number of wins for each country\nwin_count = winners_df.value_counts()\n\n# Select the top 15 countries\ntop_15_countries = win_count.head(15)"
   },
   "outputs": [],
   "source": [
    "# Filter the data to include only records from 1960 onward\n",
    "results = results[results['date'].dt.year >= 1960]\n",
    "\n",
    "# Create a new DataFrame or series to count the number of wins for each country\n",
    "winners_df = results[results['home_score'] > results['away_score']]['home_team']\n",
    "winners_df = winners_df.append(results[results['home_score'] < results['away_score']]['away_team'])\n",
    "\n",
    "# Count the number of wins for each country\n",
    "win_count = winners_df.value_counts()\n",
    "\n",
    "# Select the top 15 countries\n",
    "top_15_countries = win_count.head(15)"
   ]
  },
  {
   "cell_type": "code",
   "execution_count": null,
   "id": "b2c4debc-9e92-4fa5-9801-f545c26be3b5",
   "metadata": {},
   "outputs": [],
   "source": [
    "winners_df = "
   ]
  },
  {
   "cell_type": "code",
   "execution_count": 53,
   "id": "7eeafd76-eeb9-4610-baba-d03a179b0652",
   "metadata": {
    "executionCancelledAt": null,
    "executionTime": 16,
    "lastExecutedAt": 1707312158460,
    "lastScheduledRunId": null,
    "lastSuccessfullyExecutedCode": "top_15_countries"
   },
   "outputs": [
    {
     "data": {
      "text/plain": [
       "team       \n",
       "Brazil         544\n",
       "South Korea    460\n",
       "Mexico         455\n",
       "Germany        445\n",
       "England        399\n",
       "Argentina      379\n",
       "Spain          371\n",
       "France         355\n",
       "Italy          346\n",
       "Sweden         342\n",
       "Zambia         340\n",
       "Russia         340\n",
       "Netherlands    331\n",
       "Egypt          329\n",
       "Poland         326\n",
       "Name: count, dtype: int64"
      ]
     },
     "execution_count": 53,
     "metadata": {},
     "output_type": "execute_result"
    }
   ],
   "source": [
    "top_15_countries"
   ]
  },
  {
   "cell_type": "code",
   "execution_count": 16,
   "id": "b7d1d003-ad1c-4202-8314-dda0dcf9d982",
   "metadata": {
    "executionCancelledAt": null,
    "executionTime": 749,
    "lastExecutedAt": 1707312178341,
    "lastScheduledRunId": null,
    "lastSuccessfullyExecutedCode": "# Plotting horizontal bar plot to visualize the  for top 15 countries\nplt.figure(figsize=(10, 6))\ntop_15_countries.plot(kind='barh', color='skyblue')\nplt.xlabel('Number of Wins')\nplt.title('Top 15 Countries with Most Soccer Wins Since 1960')\nplt.show()"
   },
   "outputs": [
    {
     "data": {
      "image/png": "[encoded data removed]",
      "text/plain": [
       "<Figure size 1000x600 with 1 Axes>"
      ]
     },
     "metadata": {},
     "output_type": "display_data"
    }
   ],
   "source": [
    "# Plotting horizontal bar plot to visualize the  for top 15 countries\n",
    "plt.figure(figsize=(10, 6))\n",
    "top_15_countries.plot(kind='barh', color='skyblue')\n",
    "plt.xlabel('Number of Wins')\n",
    "plt.title('Top 15 Countries with Most Soccer Wins Since 1960')\n",
    "plt.show()"
   ]
  },
  {
   "cell_type": "markdown",
   "id": "af64f0b0-45ba-4ec0-8a70-6b7ad74a0710",
   "metadata": {},
   "source": [
    "From the above, we have our first insight to be that Brazil is the country with the most soccer wins since 1960 with over 500 wins!"
   ]
  },
  {
   "cell_type": "markdown",
   "id": "3fc3d50d-7bd1-42e9-8319-9a5eed395695",
   "metadata": {},
   "source": [
    "#### Question 2: Total goals scored per minute of the game"
   ]
  },
  {
   "cell_type": "code",
   "execution_count": 58,
   "id": "3e38b76e-548d-47d1-8035-1269aa46d33c",
   "metadata": {
    "executionCancelledAt": null,
    "executionTime": 61,
    "lastExecutedAt": 1707312191931,
    "lastScheduledRunId": null,
    "lastSuccessfullyExecutedCode": "# Question 2: Total goals scored per minute of the game\n# Create a new DataFrame combining both home and away scores\nall_scores_df = pd.concat([results[['home_score', 'date']], results[['away_score', 'date']].rename(columns={'away_score': 'score'})])"
   },
   "outputs": [],
   "source": [
    "# Create a new DataFrame combining both home and away scores\n",
    "all_scores_df = pd.concat([results[['home_score', 'date']], results[['away_score', 'date']].rename(columns={'away_score': 'score'})])"
   ]
  },
  {
   "cell_type": "code",
   "execution_count": 59,
   "id": "fa32a8f0-9256-4c95-8174-0f8a476b5d31",
   "metadata": {},
   "outputs": [
    {
     "data": {
      "text/html": [
       "<div>\n",
       "<style scoped>\n",
       "    .dataframe tbody tr th:only-of-type {\n",
       "        vertical-align: middle;\n",
       "    }\n",
       "\n",
       "    .dataframe tbody tr th {\n",
       "        vertical-align: top;\n",
       "    }\n",
       "\n",
       "    .dataframe thead th {\n",
       "        text-align: right;\n",
       "    }\n",
       "</style>\n",
       "<table border=\"1\" class=\"dataframe\">\n",
       "  <thead>\n",
       "    <tr style=\"text-align: right;\">\n",
       "      <th></th>\n",
       "      <th>home_score</th>\n",
       "      <th>date</th>\n",
       "      <th>score</th>\n",
       "    </tr>\n",
       "  </thead>\n",
       "  <tbody>\n",
       "    <tr>\n",
       "      <th>4653</th>\n",
       "      <td>0.0</td>\n",
       "      <td>1960-01-01</td>\n",
       "      <td>NaN</td>\n",
       "    </tr>\n",
       "    <tr>\n",
       "      <th>4654</th>\n",
       "      <td>1.0</td>\n",
       "      <td>1960-01-03</td>\n",
       "      <td>NaN</td>\n",
       "    </tr>\n",
       "    <tr>\n",
       "      <th>4655</th>\n",
       "      <td>3.0</td>\n",
       "      <td>1960-01-06</td>\n",
       "      <td>NaN</td>\n",
       "    </tr>\n",
       "    <tr>\n",
       "      <th>4656</th>\n",
       "      <td>0.0</td>\n",
       "      <td>1960-01-08</td>\n",
       "      <td>NaN</td>\n",
       "    </tr>\n",
       "    <tr>\n",
       "      <th>4657</th>\n",
       "      <td>3.0</td>\n",
       "      <td>1960-01-27</td>\n",
       "      <td>NaN</td>\n",
       "    </tr>\n",
       "    <tr>\n",
       "      <th>...</th>\n",
       "      <td>...</td>\n",
       "      <td>...</td>\n",
       "      <td>...</td>\n",
       "    </tr>\n",
       "    <tr>\n",
       "      <th>44929</th>\n",
       "      <td>NaN</td>\n",
       "      <td>2023-09-12</td>\n",
       "      <td>0.0</td>\n",
       "    </tr>\n",
       "    <tr>\n",
       "      <th>44930</th>\n",
       "      <td>NaN</td>\n",
       "      <td>2023-09-12</td>\n",
       "      <td>3.0</td>\n",
       "    </tr>\n",
       "    <tr>\n",
       "      <th>44931</th>\n",
       "      <td>NaN</td>\n",
       "      <td>2023-09-12</td>\n",
       "      <td>0.0</td>\n",
       "    </tr>\n",
       "    <tr>\n",
       "      <th>44932</th>\n",
       "      <td>NaN</td>\n",
       "      <td>2023-09-12</td>\n",
       "      <td>0.0</td>\n",
       "    </tr>\n",
       "    <tr>\n",
       "      <th>44933</th>\n",
       "      <td>NaN</td>\n",
       "      <td>2023-09-12</td>\n",
       "      <td>0.0</td>\n",
       "    </tr>\n",
       "  </tbody>\n",
       "</table>\n",
       "<p>80562 rows × 3 columns</p>\n",
       "</div>"
      ],
      "text/plain": [
       "       home_score       date  score\n",
       "4653          0.0 1960-01-01    NaN\n",
       "4654          1.0 1960-01-03    NaN\n",
       "4655          3.0 1960-01-06    NaN\n",
       "4656          0.0 1960-01-08    NaN\n",
       "4657          3.0 1960-01-27    NaN\n",
       "...           ...        ...    ...\n",
       "44929         NaN 2023-09-12    0.0\n",
       "44930         NaN 2023-09-12    3.0\n",
       "44931         NaN 2023-09-12    0.0\n",
       "44932         NaN 2023-09-12    0.0\n",
       "44933         NaN 2023-09-12    0.0\n",
       "\n",
       "[80562 rows x 3 columns]"
      ]
     },
     "execution_count": 59,
     "metadata": {},
     "output_type": "execute_result"
    }
   ],
   "source": [
    "all_scores_df"
   ]
  },
  {
   "cell_type": "code",
   "execution_count": 18,
   "id": "853257a1-7a40-4bdd-ad4e-4fe7a4249a49",
   "metadata": {
    "executionCancelledAt": null,
    "executionTime": 324,
    "lastExecutedAt": 1707312200342,
    "lastScheduledRunId": null,
    "lastSuccessfullyExecutedCode": "# Create a bar plot with the minutes on the x-axis and total goals scored in each minute on the y-axis\nall_scores_df['minute'] = all_scores_df['date'].dt.minute\n\ngoals_by_minute = all_scores_df['minute'].value_counts().sort_index()\n\nplt.figure(figsize=(12, 6))\nplt.bar(goals_by_minute.index, goals_by_minute.values, color='green')\nplt.xlabel('Minute')\nplt.ylabel('Total Goals Scored')\nplt.title('Total Goals Scored in Each Minute of the Game')\nplt.show()"
   },
   "outputs": [
    {
     "data": {
      "image/png": "[encoded data removed]",
      "text/plain": [
       "<Figure size 1200x600 with 1 Axes>"
      ]
     },
     "metadata": {},
     "output_type": "display_data"
    }
   ],
   "source": [
    "# Create a bar plot with the minutes on the x-axis and total goals scored in each minute on the y-axis\n",
    "all_scores_df['minute'] = all_scores_df['date'].dt.minute\n",
    "\n",
    "goals_by_minute = all_scores_df['minute'].value_counts().sort_index()\n",
    "\n",
    "plt.figure(figsize=(12, 6))\n",
    "plt.bar(goals_by_minute.index, goals_by_minute.values, color='green')\n",
    "plt.xlabel('Minute')\n",
    "plt.ylabel('Total Goals Scored')\n",
    "plt.title('Total Goals Scored in Each Minute of the Game')\n",
    "plt.show()"
   ]
  },
  {
   "cell_type": "markdown",
   "id": "37965e9b-ab45-4f79-91f7-a8b179e61eb6",
   "metadata": {},
   "source": [
    "### From the above, there is no much insight to derive here."
   ]
  },
  {
   "cell_type": "markdown",
   "id": "55709eee-afd3-4cc5-a59e-512b89627b80",
   "metadata": {},
   "source": [
    "#### Question 3 What is the proportion of games won by home and away teams and their difference?"
   ]
  },
  {
   "cell_type": "code",
   "execution_count": 19,
   "id": "3044407a-47e3-4812-9d84-0b22ee746eab",
   "metadata": {
    "executionCancelledAt": null,
    "executionTime": 19,
    "lastExecutedAt": 1707312209144,
    "lastScheduledRunId": null,
    "lastSuccessfullyExecutedCode": "# Question 3 What is the proportion of games won by home and away teams and their difference?\n\n# Calculate the proportion of games won by each team at home and away\nhome_wins = results[results['home_score'] > results['away_score']]\naway_wins = results[results['away_score'] > results['home_score']]\n\ntotal_home_games = results['home_team'].count()\ntotal_away_games = results['away_team'].count()\n\nhome_win_percentage = len(home_wins) / total_home_games * 100\naway_win_percentage = len(away_wins) / total_away_games * 100\n\n# Calculate the difference in the proportions\ndifference_in_proportions = abs(home_win_percentage - away_win_percentage)\n\n# Display the results\nprint(f\"Proportion of games won at home: {home_win_percentage:.2f}%\")\nprint(f\"Proportion of games won away: {away_win_percentage:.2f}%\")\nprint(f\"Difference in proportions: {difference_in_proportions:.2f}%\")\n\n\n",
    "outputsMetadata": {
     "0": {
      "height": 77,
      "type": "stream"
     }
    }
   },
   "outputs": [
    {
     "name": "stdout",
     "output_type": "stream",
     "text": [
      "Proportion of games won at home: 48.55%\n",
      "Proportion of games won away: 27.84%\n",
      "Difference in proportions: 20.71%\n"
     ]
    }
   ],
   "source": [
    "# Calculate the proportion of games won by each team at home and away\n",
    "home_wins = results[results['home_score'] > results['away_score']]\n",
    "away_wins = results[results['away_score'] > results['home_score']]\n",
    "\n",
    "total_home_games = results['home_team'].count()\n",
    "total_away_games = results['away_team'].count()\n",
    "\n",
    "home_win_percentage = len(home_wins) / total_home_games * 100\n",
    "away_win_percentage = len(away_wins) / total_away_games * 100\n",
    "\n",
    "# Calculate the difference in the proportions\n",
    "difference_in_proportions = abs(home_win_percentage - away_win_percentage)\n",
    "\n",
    "# Display the results\n",
    "print(f\"Proportion of games won at home: {home_win_percentage:.2f}%\")\n",
    "print(f\"Proportion of games won away: {away_win_percentage:.2f}%\")\n",
    "print(f\"Difference in proportions: {difference_in_proportions:.2f}%\")"
   ]
  },
  {
   "cell_type": "markdown",
   "id": "80a13d2e-25ba-4873-b758-9dc79a57484b",
   "metadata": {},
   "source": [
    "### From the above, the data shows that more games are won at home than away."
   ]
  },
  {
   "cell_type": "markdown",
   "id": "2a52808d-e16e-40b7-af09-2014f6d408b1",
   "metadata": {},
   "source": [
    "#### Question 4 What is the proportion of games won and drawn by each team?"
   ]
  },
  {
   "cell_type": "code",
   "execution_count": 343,
   "id": "049e0d47-4b97-4302-b0f2-a92db9509df9",
   "metadata": {
    "executionCancelledAt": null,
    "executionTime": 35,
    "lastExecutedAt": 1707312217820,
    "lastScheduledRunId": null,
    "lastSuccessfullyExecutedCode": "#Question 4 What is the proportion of games won and drawn by each team?\n\n# Calculate the proportion of games won and drawn by each team\nhome_wins = results[results['home_score'] > results['away_score']]\naway_wins = results[results['away_score'] > results['home_score']]\ndraws = results[results['home_score'] == results['away_score']]\n\ntotal_home_games = results['home_team'].count()\ntotal_away_games = results['away_team'].count()\n\nhome_win_percentage = len(home_wins) / total_home_games * 100\naway_win_percentage = len(away_wins) / total_away_games * 100\ndraw_percentage = len(draws) / (total_home_games + total_away_games) * 100\n\n# Step 3: Calculate the proportion of winning games to drawing games\nproportion_wins_to_draws = home_win_percentage / draw_percentage\n\n# Display the results\nprint(f\"Proportion of games won at home: {home_win_percentage:.2f}%\")\nprint(f\"Proportion of games won away: {away_win_percentage:.2f}%\")\nprint(f\"Proportion of drawing games: {draw_percentage:.2f}%\")\nprint(f\"Proportion of winning games to drawing games: {proportion_wins_to_draws:.2f}\")\n",
    "outputsMetadata": {
     "0": {
      "height": 97,
      "type": "stream"
     }
    }
   },
   "outputs": [
    {
     "name": "stdout",
     "output_type": "stream",
     "text": [
      "Proportion of games won at home: 48.70%\n",
      "Proportion of games won away: 28.30%\n",
      "Proportion of drawing games: 11.50%\n",
      "Proportion of winning games to drawing games: 4.23\n"
     ]
    }
   ],
   "source": [
    "# Calculate the proportion of games won and drawn by each team\n",
    "home_wins = results[results['home_score'] > results['away_score']]\n",
    "away_wins = results[results['away_score'] > results['home_score']]\n",
    "draws = results[results['home_score'] == results['away_score']]\n",
    "\n",
    "total_home_games = results['home_team'].count()\n",
    "total_away_games = results['away_team'].count()\n",
    "\n",
    "home_win_percentage = len(home_wins) / total_home_games * 100\n",
    "away_win_percentage = len(away_wins) / total_away_games * 100\n",
    "draw_percentage = len(draws) / (total_home_games + total_away_games) * 100\n",
    "\n",
    "# Step 3: Calculate the proportion of winning games to drawing games\n",
    "proportion_wins_to_draws = home_win_percentage / draw_percentage\n",
    "\n",
    "# Display the results\n",
    "print(f\"Proportion of games won at home: {home_win_percentage:.2f}%\")\n",
    "print(f\"Proportion of games won away: {away_win_percentage:.2f}%\")\n",
    "print(f\"Proportion of drawing games: {draw_percentage:.2f}%\")\n",
    "print(f\"Proportion of winning games to drawing games: {proportion_wins_to_draws:.2f}\")"
   ]
  },
  {
   "cell_type": "markdown",
   "id": "c082747b-463e-4be3-86b4-8a5eb2f010d5",
   "metadata": {},
   "source": [
    "### Question 5:  Who are the top ten players with the highest hat tricks?"
   ]
  },
  {
   "cell_type": "code",
   "execution_count": 25,
   "id": "1887afaf-83e3-4553-ad6c-764583adbf2f",
   "metadata": {
    "executionCancelledAt": null,
    "executionTime": 117,
    "lastExecutedAt": 1707312721076,
    "lastScheduledRunId": null,
    "lastSuccessfullyExecutedCode": "# Question 5:  Who are the top ten players with the highest hat tricks?\n\nimport pandas as pd\n\n# Load the 'results.csv' file into a Pandas DataFrame\nresults = pd.read_csv('data/results.csv')\n\n# Load the 'goal_scorere.csv' file into a Pandas Dataframe\ngoal_scorers = pd.read_csv('data/goalscorers.csv')\n                           \n# Extract goal scorer information and filter for hat-tricks\ngoal_scorers = pd.DataFrame({\n    'player': goal_scorers['scorer'],\n    'own_goal': goal_scorers['own_goal']\n})\n\n# Filter for non-own goals\nhat_tricks_df = goal_scorers[goal_scorers['own_goal'] == False]\n\n# Count the number of hat-tricks for each player\nhat_tricks_count = hat_tricks_df['player'].value_counts()\n\n# Select the top 10 players\ntop_10_players_hat_tricks = hat_tricks_count.head(10)\n\n# Display the result\nprint(top_10_players_hat_tricks)\n\n",
    "outputsMetadata": {
     "0": {
      "height": 237,
      "type": "stream"
     }
    }
   },
   "outputs": [
    {
     "name": "stdout",
     "output_type": "stream",
     "text": [
      "Cristiano Ronaldo     91\n",
      "Robert Lewandowski    56\n",
      "Lionel Messi          54\n",
      "Ali Daei              49\n",
      "Miroslav Klose        48\n",
      "Carlos Ruiz           47\n",
      "Luis Suárez           46\n",
      "Robbie Keane          44\n",
      "Zlatan Ibrahimović    44\n",
      "Harry Kane            44\n",
      "Name: player, dtype: int64\n"
     ]
    }
   ],
   "source": [
    "import pandas as pd\n",
    "\n",
    "# Load the 'results.csv' file into a Pandas DataFrame\n",
    "results = pd.read_csv('data/results.csv')\n",
    "\n",
    "# Load the 'goal_scorere.csv' file into a Pandas Dataframe\n",
    "goal_scorers = pd.read_csv('data/goalscorers.csv')\n",
    "                           \n",
    "# Extract goal scorer information and filter for hat-tricks\n",
    "goal_scorers = pd.DataFrame({\n",
    "    'player': goal_scorers['scorer'],\n",
    "    'own_goal': goal_scorers['own_goal']\n",
    "})\n",
    "\n",
    "# Filter for non-own goals\n",
    "hat_tricks_df = goal_scorers[goal_scorers['own_goal'] == False]\n",
    "\n",
    "# Count the number of hat-tricks for each player\n",
    "hat_tricks_count = hat_tricks_df['player'].value_counts()\n",
    "\n",
    "# Select the top 10 players\n",
    "top_10_players_hat_tricks = hat_tricks_count.head(10)\n",
    "\n",
    "# Display the result\n",
    "print(top_10_players_hat_tricks)"
   ]
  },
  {
   "cell_type": "markdown",
   "id": "42f69eb0-fb6f-4fca-b2a0-fbe667323de3",
   "metadata": {},
   "source": [
    "Let's visualize the data for the top ten players with the most hattricks."
   ]
  },
  {
   "cell_type": "code",
   "execution_count": 26,
   "id": "0d3eab25-45e9-44be-a502-709247b2fbb1",
   "metadata": {
    "executionCancelledAt": null,
    "executionTime": 207,
    "lastExecutedAt": 1707313052055,
    "lastScheduledRunId": null,
    "lastSuccessfullyExecutedCode": "plt.figure(figsize=(10, 6))\ntop_10_players_hat_tricks.plot(kind='bar', color='skyblue')\nplt.title('Top 10 Players with Most Hat-Tricks')\nplt.xlabel('Player')\nplt.ylabel('Number of Hat-Tricks')\nplt.show()"
   },
   "outputs": [
    {
     "data": {
      "image/png": "[encoded data removed]",
      "text/plain": [
       "<Figure size 1000x600 with 1 Axes>"
      ]
     },
     "metadata": {},
     "output_type": "display_data"
    }
   ],
   "source": [
    "plt.figure(figsize=(10, 6))\n",
    "top_10_players_hat_tricks.plot(kind='bar', color='skyblue')\n",
    "plt.title('Top 10 Players with Most Hat-Tricks')\n",
    "plt.xlabel('Player')\n",
    "plt.ylabel('Number of Hat-Tricks')\n",
    "plt.show()"
   ]
  },
  {
   "cell_type": "markdown",
   "id": "7815c7fe-1431-4b0a-9b0f-534e46e590f8",
   "metadata": {},
   "source": [
    "Insight: From the above, Cristiano Ronaldo is the player with the highest number of hattricks at 91. He's followed by Robert Lewandowski and Lionel Messi."
   ]
  },
  {
   "cell_type": "markdown",
   "id": "07913ee9-d23b-4a25-b273-719492e3aea4",
   "metadata": {},
   "source": [
    "### Question 6 Number of games won by home and away team\n"
   ]
  },
  {
   "cell_type": "code",
   "execution_count": 285,
   "id": "dd697832-3a9e-44d4-a7f4-e6ed7bcb70ad",
   "metadata": {},
   "outputs": [
    {
     "data": {
      "text/html": [
       "<div>\n",
       "<style scoped>\n",
       "    .dataframe tbody tr th:only-of-type {\n",
       "        vertical-align: middle;\n",
       "    }\n",
       "\n",
       "    .dataframe tbody tr th {\n",
       "        vertical-align: top;\n",
       "    }\n",
       "\n",
       "    .dataframe thead th {\n",
       "        text-align: right;\n",
       "    }\n",
       "</style>\n",
       "<table border=\"1\" class=\"dataframe\">\n",
       "  <thead>\n",
       "    <tr style=\"text-align: right;\">\n",
       "      <th></th>\n",
       "      <th>date</th>\n",
       "      <th>home_team</th>\n",
       "      <th>away_team</th>\n",
       "      <th>home_score</th>\n",
       "      <th>away_score</th>\n",
       "      <th>tournament</th>\n",
       "      <th>city</th>\n",
       "      <th>country</th>\n",
       "      <th>neutral</th>\n",
       "    </tr>\n",
       "  </thead>\n",
       "  <tbody>\n",
       "    <tr>\n",
       "      <th>0</th>\n",
       "      <td>1872-11-30</td>\n",
       "      <td>Scotland</td>\n",
       "      <td>England</td>\n",
       "      <td>0</td>\n",
       "      <td>0</td>\n",
       "      <td>Friendly</td>\n",
       "      <td>Glasgow</td>\n",
       "      <td>Scotland</td>\n",
       "      <td>False</td>\n",
       "    </tr>\n",
       "    <tr>\n",
       "      <th>1</th>\n",
       "      <td>1873-03-08</td>\n",
       "      <td>England</td>\n",
       "      <td>Scotland</td>\n",
       "      <td>4</td>\n",
       "      <td>2</td>\n",
       "      <td>Friendly</td>\n",
       "      <td>London</td>\n",
       "      <td>England</td>\n",
       "      <td>False</td>\n",
       "    </tr>\n",
       "    <tr>\n",
       "      <th>2</th>\n",
       "      <td>1874-03-07</td>\n",
       "      <td>Scotland</td>\n",
       "      <td>England</td>\n",
       "      <td>2</td>\n",
       "      <td>1</td>\n",
       "      <td>Friendly</td>\n",
       "      <td>Glasgow</td>\n",
       "      <td>Scotland</td>\n",
       "      <td>False</td>\n",
       "    </tr>\n",
       "    <tr>\n",
       "      <th>3</th>\n",
       "      <td>1875-03-06</td>\n",
       "      <td>England</td>\n",
       "      <td>Scotland</td>\n",
       "      <td>2</td>\n",
       "      <td>2</td>\n",
       "      <td>Friendly</td>\n",
       "      <td>London</td>\n",
       "      <td>England</td>\n",
       "      <td>False</td>\n",
       "    </tr>\n",
       "    <tr>\n",
       "      <th>4</th>\n",
       "      <td>1876-03-04</td>\n",
       "      <td>Scotland</td>\n",
       "      <td>England</td>\n",
       "      <td>3</td>\n",
       "      <td>0</td>\n",
       "      <td>Friendly</td>\n",
       "      <td>Glasgow</td>\n",
       "      <td>Scotland</td>\n",
       "      <td>False</td>\n",
       "    </tr>\n",
       "    <tr>\n",
       "      <th>...</th>\n",
       "      <td>...</td>\n",
       "      <td>...</td>\n",
       "      <td>...</td>\n",
       "      <td>...</td>\n",
       "      <td>...</td>\n",
       "      <td>...</td>\n",
       "      <td>...</td>\n",
       "      <td>...</td>\n",
       "      <td>...</td>\n",
       "    </tr>\n",
       "    <tr>\n",
       "      <th>44929</th>\n",
       "      <td>2023-09-12</td>\n",
       "      <td>Belgium</td>\n",
       "      <td>Estonia</td>\n",
       "      <td>5</td>\n",
       "      <td>0</td>\n",
       "      <td>UEFA Euro qualification</td>\n",
       "      <td>Brussels</td>\n",
       "      <td>Belgium</td>\n",
       "      <td>False</td>\n",
       "    </tr>\n",
       "    <tr>\n",
       "      <th>44930</th>\n",
       "      <td>2023-09-12</td>\n",
       "      <td>Sweden</td>\n",
       "      <td>Austria</td>\n",
       "      <td>1</td>\n",
       "      <td>3</td>\n",
       "      <td>UEFA Euro qualification</td>\n",
       "      <td>Stockholm</td>\n",
       "      <td>Sweden</td>\n",
       "      <td>False</td>\n",
       "    </tr>\n",
       "    <tr>\n",
       "      <th>44931</th>\n",
       "      <td>2023-09-12</td>\n",
       "      <td>Switzerland</td>\n",
       "      <td>Andorra</td>\n",
       "      <td>3</td>\n",
       "      <td>0</td>\n",
       "      <td>UEFA Euro qualification</td>\n",
       "      <td>Sion</td>\n",
       "      <td>Switzerland</td>\n",
       "      <td>False</td>\n",
       "    </tr>\n",
       "    <tr>\n",
       "      <th>44932</th>\n",
       "      <td>2023-09-12</td>\n",
       "      <td>Israel</td>\n",
       "      <td>Belarus</td>\n",
       "      <td>1</td>\n",
       "      <td>0</td>\n",
       "      <td>UEFA Euro qualification</td>\n",
       "      <td>Tel Aviv</td>\n",
       "      <td>Israel</td>\n",
       "      <td>False</td>\n",
       "    </tr>\n",
       "    <tr>\n",
       "      <th>44933</th>\n",
       "      <td>2023-09-12</td>\n",
       "      <td>Romania</td>\n",
       "      <td>Kosovo</td>\n",
       "      <td>2</td>\n",
       "      <td>0</td>\n",
       "      <td>UEFA Euro qualification</td>\n",
       "      <td>Bucharest</td>\n",
       "      <td>Romania</td>\n",
       "      <td>False</td>\n",
       "    </tr>\n",
       "  </tbody>\n",
       "</table>\n",
       "<p>44934 rows × 9 columns</p>\n",
       "</div>"
      ],
      "text/plain": [
       "            date    home_team away_team  home_score  away_score  \\\n",
       "0     1872-11-30     Scotland   England           0           0   \n",
       "1     1873-03-08      England  Scotland           4           2   \n",
       "2     1874-03-07     Scotland   England           2           1   \n",
       "3     1875-03-06      England  Scotland           2           2   \n",
       "4     1876-03-04     Scotland   England           3           0   \n",
       "...          ...          ...       ...         ...         ...   \n",
       "44929 2023-09-12      Belgium   Estonia           5           0   \n",
       "44930 2023-09-12       Sweden   Austria           1           3   \n",
       "44931 2023-09-12  Switzerland   Andorra           3           0   \n",
       "44932 2023-09-12       Israel   Belarus           1           0   \n",
       "44933 2023-09-12      Romania    Kosovo           2           0   \n",
       "\n",
       "                    tournament       city      country  neutral  \n",
       "0                     Friendly    Glasgow     Scotland    False  \n",
       "1                     Friendly     London      England    False  \n",
       "2                     Friendly    Glasgow     Scotland    False  \n",
       "3                     Friendly     London      England    False  \n",
       "4                     Friendly    Glasgow     Scotland    False  \n",
       "...                        ...        ...          ...      ...  \n",
       "44929  UEFA Euro qualification   Brussels      Belgium    False  \n",
       "44930  UEFA Euro qualification  Stockholm       Sweden    False  \n",
       "44931  UEFA Euro qualification       Sion  Switzerland    False  \n",
       "44932  UEFA Euro qualification   Tel Aviv       Israel    False  \n",
       "44933  UEFA Euro qualification  Bucharest      Romania    False  \n",
       "\n",
       "[44934 rows x 9 columns]"
      ]
     },
     "execution_count": 285,
     "metadata": {},
     "output_type": "execute_result"
    }
   ],
   "source": [
    "results"
   ]
  },
  {
   "cell_type": "code",
   "execution_count": 287,
   "id": "1dde5e5a-2bf4-477e-895e-280fe1adeb1e",
   "metadata": {},
   "outputs": [],
   "source": [
    "df1 = results.copy()"
   ]
  },
  {
   "cell_type": "markdown",
   "id": "06613fef-04f3-46cd-bd07-b55dd4c6b804",
   "metadata": {},
   "source": [
    "### Let us define a new columns to get the number of games won by home vs away team"
   ]
  },
  {
   "cell_type": "code",
   "execution_count": 294,
   "id": "d3249e28-aec1-46af-9aa8-41d1a2ad65af",
   "metadata": {},
   "outputs": [],
   "source": [
    "win_team = []\n",
    "for index, row in df1.iterrows():\n",
    "    if row['home_score'] > row['away_score']:\n",
    "        win_team.append('home_team')\n",
    "    elif row['away_score'] > row['home_score']:\n",
    "        win_team.append('away_team')\n",
    "    else:\n",
    "        win_team.append('draw')\n",
    "\n",
    "df1['win_team'] = win_team"
   ]
  },
  {
   "cell_type": "code",
   "execution_count": 297,
   "id": "2da8b347-bcdc-4d4e-b31f-f458e19cc02d",
   "metadata": {},
   "outputs": [
    {
     "data": {
      "text/plain": [
       "win_team\n",
       "home_team    21882\n",
       "away_team    12716\n",
       "draw         10336\n",
       "Name: count, dtype: int64"
      ]
     },
     "execution_count": 297,
     "metadata": {},
     "output_type": "execute_result"
    }
   ],
   "source": [
    "df1.win_team.value_counts()"
   ]
  },
  {
   "cell_type": "code",
   "execution_count": 301,
   "id": "082f2014-3b3f-4079-a72e-12dc253dec2a",
   "metadata": {},
   "outputs": [
    {
     "data": {
      "text/plain": [
       "win_team\n",
       "home_team    21882\n",
       "away_team    12716\n",
       "Name: count, dtype: int64"
      ]
     },
     "execution_count": 301,
     "metadata": {},
     "output_type": "execute_result"
    }
   ],
   "source": [
    "df1_drop_draws = df1[df1.win_team != 'draw']\n",
    "df2 = df1_drop_draws['win_team'].value_counts()\n",
    "df2"
   ]
  },
  {
   "cell_type": "code",
   "execution_count": 308,
   "id": "9aba329a-f015-4ea6-804f-3f08678484fa",
   "metadata": {},
   "outputs": [
    {
     "data": {
      "image/png": "[encoded data removed]",
      "text/plain": [
       "<Figure size 640x480 with 1 Axes>"
      ]
     },
     "metadata": {},
     "output_type": "display_data"
    }
   ],
   "source": [
    "# let us plot a graph to show the numer of games won by home vs away\n",
    "plt.bar(df2.index, df2.values, color = 'black')\n",
    "plt.title('Games won by home vs away')\n",
    "plt.xlabel('Home and Away')\n",
    "plt.ylabel('Number of games')\n",
    "\n",
    "plt.show()\n"
   ]
  },
  {
   "cell_type": "markdown",
   "id": "b6f61623-324d-49ed-836d-a2b1d733431a",
   "metadata": {},
   "source": [
    "### Question 6 Number of proportion of goals that are score by penalty"
   ]
  },
  {
   "cell_type": "code",
   "execution_count": 329,
   "id": "fdf23309-e6a7-4a15-91e8-b1086a6b60de",
   "metadata": {},
   "outputs": [
    {
     "data": {
      "text/plain": [
       "penalty\n",
       "False    38416\n",
       "True      2697\n",
       "Name: count, dtype: int64"
      ]
     },
     "execution_count": 329,
     "metadata": {},
     "output_type": "execute_result"
    }
   ],
   "source": [
    "penalty_counts = goal['penalty'].value_counts()\n",
    "penalty_counts"
   ]
  },
  {
   "cell_type": "code",
   "execution_count": 349,
   "id": "9938ff27-9a32-4470-8c70-fb4c8270c19c",
   "metadata": {},
   "outputs": [
    {
     "name": "stdout",
     "output_type": "stream",
     "text": [
      "The proportion of goals scored by penalty is  6.56%\n"
     ]
    }
   ],
   "source": [
    "proportion_penalty = penalty_counts[True] / goal.shape[0]\n",
    "print(f'The proportion of goals scored by penalty is {proportion_penalty: .2%}')"
   ]
  },
  {
   "cell_type": "code",
   "execution_count": null,
   "id": "94170009-159c-4496-8877-a12b53eee572",
   "metadata": {},
   "outputs": [],
   "source": []
  }
 ],
 "metadata": {
  "colab": {
   "name": "Welcome to DataCamp Workspaces.ipynb",
   "provenance": []
  },
  "kernelspec": {
   "display_name": "Python 3 (ipykernel)",
   "language": "python",
   "name": "python3"
  },
  "language_info": {
   "codemirror_mode": {
    "name": "ipython",
    "version": 3
   },
   "file_extension": ".py",
   "mimetype": "text/x-python",
   "name": "python",
   "nbconvert_exporter": "python",
   "pygments_lexer": "ipython3",
   "version": "3.11.6"
  }
 },
 "nbformat": 4,
 "nbformat_minor": 5
}
